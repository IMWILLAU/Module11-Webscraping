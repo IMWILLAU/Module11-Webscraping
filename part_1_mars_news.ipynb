{
 "cells": [
  {
   "cell_type": "markdown",
   "metadata": {},
   "source": [
    "# Module 12 Challenge\n",
    "## Deliverable 1: Scrape Titles and Preview Text from Mars News"
   ]
  },
  {
   "cell_type": "code",
   "execution_count": 36,
   "metadata": {},
   "outputs": [],
   "source": [
    "# Import Splinter and BeautifulSoup\n",
    "from splinter import Browser\n",
    "from bs4 import BeautifulSoup"
   ]
  },
  {
   "cell_type": "code",
   "execution_count": 39,
   "metadata": {
    "scrolled": true
   },
   "outputs": [],
   "source": [
    "browser = Browser('chrome')"
   ]
  },
  {
   "cell_type": "markdown",
   "metadata": {},
   "source": [
    "### Step 1: Visit the Website\n",
    "\n",
    "1. Use automated browsing to visit the [Mars news site](https://static.bc-edx.com/data/web/mars_news/index.html). Inspect the page to identify which elements to scrape.\n",
    "\n",
    "      > **Hint** To identify which elements to scrape, you might want to inspect the page by using Chrome DevTools."
   ]
  },
  {
   "cell_type": "code",
   "execution_count": 40,
   "metadata": {},
   "outputs": [],
   "source": [
    "# Visit the Mars news site\n",
    "url = \"https://static.bc-edx.com/data/web/mars_news/index.html\"\n",
    "html = browser.html\n",
    "browser.visit(url)"
   ]
  },
  {
   "cell_type": "markdown",
   "metadata": {},
   "source": [
    "### Step 2: Scrape the Website\n",
    "\n",
    "Create a Beautiful Soup object and use it to extract text elements from the website."
   ]
  },
  {
   "cell_type": "code",
   "execution_count": null,
   "metadata": {},
   "outputs": [],
   "source": [
    "# Create a Beautiful Soup object\n",
    "soup = BeautifulSoup(html, 'html.parser')"
   ]
  },
  {
   "cell_type": "code",
   "execution_count": 26,
   "metadata": {},
   "outputs": [
    {
     "name": "stdout",
     "output_type": "stream",
     "text": [
      "NASA Marks 25 Years Since Pathfinder Touched Down on Mars\n",
      "NASA's Perseverance Rover Captures Video of Solar Eclipse on Mars\n",
      "NASA, UAE Mars Missions Agree to Share Science Data\n",
      "Images and news content extracted from NASA's Mars News website on November 9, 2022.\n",
      "Images used in accordance with the JPL Image Use Policy.\n",
      "This site is operated by edX Boot Camps LLC for educational purposes only.\n",
      "This is not a website endorsed by NASA. This website is intended only for internal academic purposes.\n"
     ]
    }
   ],
   "source": [
    "# Extract all the text elements\n",
    "parent_element = browser.find_by_css('div')\n",
    "\n",
    "# Find all text elements within the parent element\n",
    "text_elements = parent_element.find_by_tag('p') \n",
    "\n",
    "# Extract text from all found text elements\n",
    "all_texts = [element.text for element in text_elements]\n",
    "\n",
    "# Print all extracted text\n",
    "for text in all_texts:\n",
    "    print(text)"
   ]
  },
  {
   "cell_type": "markdown",
   "metadata": {},
   "source": [
    "### Step 3: Store the Results\n",
    "\n",
    "Extract the titles and preview text of the news articles that you scraped. Store the scraping results in Python data structures as follows:\n",
    "\n",
    "* Store each title-and-preview pair in a Python dictionary. And, give each dictionary two keys: `title` and `preview`. An example is the following:\n",
    "\n",
    "  ```python\n",
    "  {'title': \"NASA's MAVEN Observes Martian Light Show Caused by Major Solar Storm\", \n",
    "   'preview': \"For the first time in its eight years orbiting Mars, NASA’s MAVEN mission witnessed two different types of ultraviolet aurorae simultaneously, the result of solar storms that began on Aug. 27.\"\n",
    "  }\n",
    "  ```\n",
    "\n",
    "* Store all the dictionaries in a Python list.\n",
    "\n",
    "* Print the list in your notebook."
   ]
  },
  {
   "cell_type": "code",
   "execution_count": 27,
   "metadata": {},
   "outputs": [],
   "source": [
    "# Create an empty list to store the dictionaries\n",
    "data_list = []"
   ]
  },
  {
   "cell_type": "code",
   "execution_count": 32,
   "metadata": {},
   "outputs": [],
   "source": [
    "# Index of text elements\n",
    "start_index = html.find('<div class=\"article_teaser_body\">')\n",
    "end_index = html.find('</div>', start_index)\n",
    "\n",
    "# Loop through the text elements\n",
    "while start_index != -1 and end_index != -1:\n",
    "    # Extract the portion containing title and preview text\n",
    "    text_portion = html[start_index:end_index + len('</div>')]\n",
    "\n",
    "    # Extract the title and preview text using string manipulation\n",
    "    title_start = text_portion.find('<h2 class=\"content_title\">') + len('<h2 class=\"content_title\">')\n",
    "    title_end = text_portion.find('</h2>', title_start)\n",
    "    title = text_portion[title_start:title_end].strip()\n",
    "\n",
    "    preview_start = text_portion.find('<p class=\"article_teaser_body\">') + len('<p class=\"article_teaser_body\">')\n",
    "    preview_end = text_portion.find('</p>', preview_start)\n",
    "    preview = text_portion[preview_start:preview_end].strip()\n",
    "\n",
    "    # Store each title and preview pair in a dictionary\n",
    "    data_dict = {'title': title, 'preview': preview}\n",
    "    data_list.append(data_dict)\n",
    "\n",
    "    # Find the next text elements\n",
    "    start_index = html.find('<div class=\"article_teaser_body\">', end_index)\n",
    "    end_index = html.find('</div>', start_index)\n"
   ]
  },
  {
   "cell_type": "code",
   "execution_count": 34,
   "metadata": {},
   "outputs": [
    {
     "name": "stdout",
     "output_type": "stream",
     "text": [
      "{'title': 'r_body\">For the first time in its eight years orbiting Mars, NASA’s MAVEN mission witnessed two different types of ultraviolet aurorae simultaneously, the result of solar storms that began on Aug. 27.</div', 'preview': 'y\">For the first time in its eight years orbiting Mars, NASA’s MAVEN mission witnessed two different types of ultraviolet aurorae simultaneously, the result of solar storms that began on Aug. 27.</div'}\n",
      "{'title': 'r_body\">A closer look at what goes into wrapping up the mission as the spacecraft’s power supply continues to dwindle.</div', 'preview': 'y\">A closer look at what goes into wrapping up the mission as the spacecraft’s power supply continues to dwindle.</div'}\n",
      "{'title': 'r_body\">The agency’s Perseverance rover will establish the first sample depot on Mars.</div', 'preview': 'y\">The agency’s Perseverance rover will establish the first sample depot on Mars.</div'}\n",
      "{'title': 'r_body\">The agency’s lander felt the ground shake during the impact while cameras aboard the Mars Reconnaissance Orbiter spotted the yawning new crater from space.</div', 'preview': 'y\">The agency’s lander felt the ground shake during the impact while cameras aboard the Mars Reconnaissance Orbiter spotted the yawning new crater from space.</div'}\n",
      "{'title': 'r_body\">Scientists from two Mars missions will discuss how they combined images and data for a major finding on the Red Planet.</div', 'preview': 'y\">Scientists from two Mars missions will discuss how they combined images and data for a major finding on the Red Planet.</div'}\n",
      "{'title': 'r_body\">Like a car’s crumple zone, the experimental SHIELD lander is designed to absorb a hard impact.</div', 'preview': 'y\">Like a car’s crumple zone, the experimental SHIELD lander is designed to absorb a hard impact.</div'}\n",
      "{'title': 'r_body\">After years of climbing, the Mars rover has arrived at a special region believed to have formed as Mars’ climate was drying.</div', 'preview': 'y\">After years of climbing, the Mars rover has arrived at a special region believed to have formed as Mars’ climate was drying.</div'}\n",
      "{'title': 'r_body\">Protecting Mars Sample Return spacecraft from micrometeorites requires high-caliber work.</div', 'preview': 'y\">Protecting Mars Sample Return spacecraft from micrometeorites requires high-caliber work.</div'}\n",
      "{'title': 'r_body\">InSight’s team is taking steps to help the solar-powered lander continue operating for as long as possible.</div', 'preview': 'y\">InSight’s team is taking steps to help the solar-powered lander continue operating for as long as possible.</div'}\n",
      "{'title': 'r_body\">The Mars lander’s seismometer has picked up vibrations from four separate impacts in the past two years.</div', 'preview': 'y\">The Mars lander’s seismometer has picked up vibrations from four separate impacts in the past two years.</div'}\n",
      "{'title': 'r_body\">The latest findings provide greater detail on a region of the Red Planet that has a watery past and is yielding promising samples for the NASA-ESA Mars Sample Return campaign.</div', 'preview': 'y\">The latest findings provide greater detail on a region of the Red Planet that has a watery past and is yielding promising samples for the NASA-ESA Mars Sample Return campaign.</div'}\n",
      "{'title': 'r_body\">Members of the mission will discuss the rover’s activities as it gathers samples in an ancient river delta.</div', 'preview': 'y\">Members of the mission will discuss the rover’s activities as it gathers samples in an ancient river delta.</div'}\n",
      "{'title': 'r_body\">The rover found that Jezero Crater’s floor is made up of volcanic rocks that have interacted with water.</div', 'preview': 'y\">The rover found that Jezero Crater’s floor is made up of volcanic rocks that have interacted with water.</div'}\n",
      "{'title': 'r_body\">Despite signs of wear, the intrepid spacecraft is about to start an exciting new chapter of its mission as it climbs a Martian mountain.</div', 'preview': 'y\">Despite signs of wear, the intrepid spacecraft is about to start an exciting new chapter of its mission as it climbs a Martian mountain.</div'}\n",
      "{'title': 'r_body\">“Selfie” of the Curiosity rover with inset showing the SAM instrument prior to installation on the rover.</div', 'preview': 'y\">“Selfie” of the Curiosity rover with inset showing the SAM instrument prior to installation on the rover.</div'}\n"
     ]
    }
   ],
   "source": [
    "# Print the list to confirm success\n",
    "for data in data_list:\n",
    "    print(data)"
   ]
  },
  {
   "cell_type": "code",
   "execution_count": 35,
   "metadata": {},
   "outputs": [],
   "source": [
    "browser.quit()"
   ]
  },
  {
   "cell_type": "code",
   "execution_count": null,
   "metadata": {},
   "outputs": [],
   "source": []
  }
 ],
 "metadata": {
  "kernelspec": {
   "display_name": "Python 3 (ipykernel)",
   "language": "python",
   "name": "python3"
  },
  "language_info": {
   "codemirror_mode": {
    "name": "ipython",
    "version": 3
   },
   "file_extension": ".py",
   "mimetype": "text/x-python",
   "name": "python",
   "nbconvert_exporter": "python",
   "pygments_lexer": "ipython3",
   "version": "3.11.5"
  },
  "vscode": {
   "interpreter": {
    "hash": "31f2aee4e71d21fbe5cf8b01ff0e069b9275f58929596ceb00d14d90e3e16cd6"
   }
  }
 },
 "nbformat": 4,
 "nbformat_minor": 4
}
